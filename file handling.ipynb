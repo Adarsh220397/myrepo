{
 "cells": [
  {
   "cell_type": "code",
   "execution_count": 1,
   "id": "6f7df891",
   "metadata": {},
   "outputs": [
    {
     "name": "stdout",
     "output_type": "stream",
     "text": [
      "ASDAD SAQSQEQK WQED EQS , \n",
      "E\n",
      "QW WEW\n",
      "E \n",
      "R D\n",
      "FG4KOQDM \n",
      "  E\n",
      " NOW THIS FILE HAS SOME CONTENT \n",
      "\n",
      "\n",
      " NOW THIS FILE HAS SOME CONTENT \n",
      "\n",
      " NOW THIS FILE HAS SOME CONTENT \n",
      "\n",
      " NOW THIS FILE HAS SOME CONTENT \n",
      "\n",
      " NOW THIS FILE HAS SOME CONTENT \n",
      "\n"
     ]
    }
   ],
   "source": [
    "f = open(\"C:\\\\Users\\\\पज\\\\data.txt\",\"r\")   \n",
    "print(f.read())\n",
    "f.close()"
   ]
  },
  {
   "cell_type": "code",
   "execution_count": 2,
   "id": "8b10402c",
   "metadata": {},
   "outputs": [
    {
     "name": "stdout",
     "output_type": "stream",
     "text": [
      "ASDAD SAQSQEQK WQED E\n",
      "QS , \n",
      "E\n",
      "QW W\n"
     ]
    }
   ],
   "source": [
    "f = open(\"C:\\\\Users\\\\पज\\\\data.txt\")\n",
    "print(f.read(21))                              #TO READ CHARACTER BY CHARACTER\n",
    "\n",
    "more_content = f.read(12)\n",
    "print(more_content)\n",
    "\n",
    "\n",
    "f.close()"
   ]
  },
  {
   "cell_type": "code",
   "execution_count": 3,
   "id": "3fe5b90f",
   "metadata": {},
   "outputs": [
    {
     "name": "stdout",
     "output_type": "stream",
     "text": [
      "ASDAD\n"
     ]
    }
   ],
   "source": [
    "f = open(\"C:\\\\Users\\\\पज\\\\data.txt\",\"r\")   \n",
    "print(f.read(5))\n",
    "\n",
    "\n",
    "f.close()"
   ]
  },
  {
   "cell_type": "code",
   "execution_count": 4,
   "id": "4de284b5",
   "metadata": {},
   "outputs": [
    {
     "ename": "FileNotFoundError",
     "evalue": "[Errno 2] No such file or directory: 'file.txt'",
     "output_type": "error",
     "traceback": [
      "\u001b[1;31m---------------------------------------------------------------------------\u001b[0m",
      "\u001b[1;31mFileNotFoundError\u001b[0m                         Traceback (most recent call last)",
      "\u001b[1;32mC:\\Users\\6A90~1\\AppData\\Local\\Temp/ipykernel_10708/855636369.py\u001b[0m in \u001b[0;36m<module>\u001b[1;34m\u001b[0m\n\u001b[1;32m----> 1\u001b[1;33m \u001b[0mf\u001b[0m \u001b[1;33m=\u001b[0m \u001b[0mopen\u001b[0m\u001b[1;33m(\u001b[0m\u001b[1;34m\"file.txt\"\u001b[0m\u001b[1;33m)\u001b[0m                         \u001b[1;31m# how to handle error if there is no such file\u001b[0m\u001b[1;33m\u001b[0m\u001b[1;33m\u001b[0m\u001b[0m\n\u001b[0m\u001b[0;32m      2\u001b[0m \u001b[0mprint\u001b[0m\u001b[1;33m(\u001b[0m\u001b[0mf\u001b[0m\u001b[1;33m.\u001b[0m\u001b[0mread\u001b[0m\u001b[1;33m(\u001b[0m\u001b[1;33m)\u001b[0m\u001b[1;33m)\u001b[0m\u001b[1;33m\u001b[0m\u001b[1;33m\u001b[0m\u001b[0m\n",
      "\u001b[1;31mFileNotFoundError\u001b[0m: [Errno 2] No such file or directory: 'file.txt'"
     ]
    }
   ],
   "source": [
    "\n",
    "\n",
    "f = open(\"file.txt\")                         # how to handle error if there is no such file\n",
    "print(f.read())"
   ]
  },
  {
   "cell_type": "code",
   "execution_count": null,
   "id": "5c17e6c5",
   "metadata": {},
   "outputs": [],
   "source": [
    "try:\n",
    "   \n",
    "    f = open(\"file.txt\")                         # how to handle error if there is no such file\n",
    "    print(f.read())\n",
    "    print(\"file openned\")\n",
    "except:\n",
    "    print(\"try different file dir\")\n",
    "finally:\n",
    "    f.close()"
   ]
  },
  {
   "cell_type": "code",
   "execution_count": null,
   "id": "b3c8d7eb",
   "metadata": {},
   "outputs": [],
   "source": [
    "try:\n",
    "    \n",
    "    f = open(\"data.txt\")                         \n",
    "    print(f.read())\n",
    "    print(\"file openned\")\n",
    "    \n",
    "except:\n",
    "    print(\"try different file dir\")\n",
    "finally:\n",
    "    f.close()"
   ]
  },
  {
   "cell_type": "code",
   "execution_count": null,
   "id": "9772416c",
   "metadata": {},
   "outputs": [],
   "source": [
    "f = open(\"data.txt\")\n",
    "print(f.readline())                    # read line instead of char\n",
    "print(f.readline())\n",
    "\n",
    "file.close()"
   ]
  },
  {
   "cell_type": "code",
   "execution_count": null,
   "id": "3b1db04a",
   "metadata": {},
   "outputs": [],
   "source": [
    "file = open(\"data.txt\")\n",
    "                                         # to read all lines in file by line by line.\n",
    "for line in file:                                         # prints out each line in file\n",
    "    print(line +\".\")\n",
    "    if \"FG4\" in line:\n",
    "        print()\n",
    "        print(line)\n",
    "        \n",
    "file.close()"
   ]
  },
  {
   "cell_type": "code",
   "execution_count": null,
   "id": "52eeeb53",
   "metadata": {},
   "outputs": [],
   "source": [
    "file =  open(\"data.txt\")\n",
    "\n",
    "linenum = 1\n",
    "for line in file:\n",
    "    #linenum = 1\n",
    "    if \"Q\" in line:\n",
    "        print(f\" THE line num is {linenum} : {line}\")\n",
    "        #linenum +=1\n",
    "        if \"E\" in line:\n",
    "            print(f\" THE line num  of {linenum} : {line}\")\n",
    "    linenum +=1\n",
    "    \n",
    "file.close()"
   ]
  },
  {
   "cell_type": "code",
   "execution_count": null,
   "id": "0b1d15e1",
   "metadata": {},
   "outputs": [],
   "source": [
    "file = open(\"data.txt\")\n",
    "linenum = 1\n",
    "\n",
    "for line in file:\n",
    "    if 'E' in line:\n",
    "        print(f\"Line {linenum} : {line}\")\n",
    "    linenum +=1\n",
    "file.close()"
   ]
  },
  {
   "cell_type": "code",
   "execution_count": null,
   "id": "23ebd42e",
   "metadata": {},
   "outputs": [],
   "source": [
    "num = 1\n",
    "for i in range(5) :\n",
    "   if i == 2: \n",
    "     print(f'line {num} :{i}')\n",
    "   num+=1\n",
    "\n",
    "file.close()"
   ]
  },
  {
   "cell_type": "code",
   "execution_count": null,
   "id": "9f59b217",
   "metadata": {},
   "outputs": [],
   "source": [
    "file = open (\"data.txt\",\"a\")\n",
    "x =file.write(\"\\n NOW THIS FILE HAS SOME CONTENT \\n\")           # each time i run the code it appends\n",
    "print(x)\n",
    "\n",
    "print()\n",
    "print()\n",
    "#file.close()\n",
    "\n",
    "f = open(\"data.txt\",\"r\")\n",
    "print(f.read())\n",
    "\n",
    "file.close()"
   ]
  },
  {
   "cell_type": "code",
   "execution_count": null,
   "id": "b9a6e0fb",
   "metadata": {},
   "outputs": [],
   "source": [
    "file = open(\"myfile\",\"w\")                                  #create a file\n",
    "#print(file.read())\n",
    "file.write(\"\\n hi this is adarsh \\n\")\n",
    "file.close()\n",
    "\n",
    "file = open(\"myfile\")\n",
    "print(file.read())\n",
    "\n",
    "file = open(\"myfile\",\"a\")\n",
    "x = file.write(\" iii all \\n\")\n",
    "print(x)\n",
    "\n",
    "print()\n",
    "print()\n",
    "\n",
    "file = open(\"myfile\")\n",
    "print(file.read())\n",
    "\n",
    "file.close()"
   ]
  },
  {
   "cell_type": "code",
   "execution_count": null,
   "id": "89b517e1",
   "metadata": {},
   "outputs": [],
   "source": [
    "def file():\n",
    "    f = open(\"data.txt\")             \n",
    "    print(f.read())\n",
    "\n",
    "    file.close()\n",
    "\n",
    "file()\n",
    "file()"
   ]
  },
  {
   "cell_type": "code",
   "execution_count": null,
   "id": "774d1701",
   "metadata": {},
   "outputs": [],
   "source": [
    "f = open(\"file.txt\")\n",
    "print(f.read())"
   ]
  },
  {
   "cell_type": "code",
   "execution_count": null,
   "id": "b371375a",
   "metadata": {},
   "outputs": [],
   "source": [
    "try :\n",
    "    f = open(\"file.txt\")\n",
    "    print(f.read())\n",
    "    print(\"file open\")\n",
    "except FileNotFoundError:\n",
    "    print(\"file not there\")"
   ]
  },
  {
   "cell_type": "code",
   "execution_count": 23,
   "id": "a0c6b156",
   "metadata": {},
   "outputs": [
    {
     "name": "stdout",
     "output_type": "stream",
     "text": [
      "new assignment \n",
      "new assignment \n",
      "new assignment \n"
     ]
    }
   ],
   "source": [
    "def readfile():\n",
    "    f =open(\"assignment.txt\")\n",
    "    x = f.read()\n",
    "    print(x)\n",
    "    \n",
    "    \n",
    "readfile()\n",
    "readfile()\n",
    "#file.close()\n",
    "readfile()"
   ]
  },
  {
   "cell_type": "code",
   "execution_count": 21,
   "id": "8eb44eb1",
   "metadata": {},
   "outputs": [
    {
     "ename": "ValueError",
     "evalue": "invalid literal for int() with base 10: '\\n hi this is adarsh \\n iii all \\n'",
     "output_type": "error",
     "traceback": [
      "\u001b[1;31m---------------------------------------------------------------------------\u001b[0m",
      "\u001b[1;31mValueError\u001b[0m                                Traceback (most recent call last)",
      "\u001b[1;32mC:\\Users\\6A90~1\\AppData\\Local\\Temp/ipykernel_10708/1590507027.py\u001b[0m in \u001b[0;36m<module>\u001b[1;34m\u001b[0m\n\u001b[0;32m     12\u001b[0m \u001b[0mreadfile\u001b[0m\u001b[1;33m(\u001b[0m\u001b[1;34m\"myfile\"\u001b[0m\u001b[1;33m)\u001b[0m\u001b[1;33m\u001b[0m\u001b[1;33m\u001b[0m\u001b[0m\n\u001b[0;32m     13\u001b[0m \u001b[1;33m\u001b[0m\u001b[0m\n\u001b[1;32m---> 14\u001b[1;33m \u001b[0mnum\u001b[0m\u001b[1;33m=\u001b[0m\u001b[0mint\u001b[0m\u001b[1;33m(\u001b[0m\u001b[0mreadfile\u001b[0m\u001b[1;33m(\u001b[0m\u001b[1;34m\"myfile\"\u001b[0m\u001b[1;33m)\u001b[0m\u001b[1;33m)\u001b[0m\u001b[1;33m\u001b[0m\u001b[1;33m\u001b[0m\u001b[0m\n\u001b[0m\u001b[0;32m     15\u001b[0m \u001b[1;33m\u001b[0m\u001b[0m\n\u001b[0;32m     16\u001b[0m  \u001b[1;31m#writefile(\"myfile\",num)\u001b[0m\u001b[1;33m\u001b[0m\u001b[1;33m\u001b[0m\u001b[1;33m\u001b[0m\u001b[0m\n",
      "\u001b[1;31mValueError\u001b[0m: invalid literal for int() with base 10: '\\n hi this is adarsh \\n iii all \\n'"
     ]
    }
   ],
   "source": [
    "def readfile(filename):\n",
    "    f = open(filename)\n",
    "    txt = f.read()\n",
    "    return txt\n",
    "\n",
    "def writefile(filename,text):\n",
    "    text = str(text)\n",
    "    f = open(filename,'w')\n",
    "    f.write(text)\n",
    "    f.close()\n",
    "    \n",
    "readfile(\"myfile\")\n",
    "\n",
    "num=int(readfile(\"myfile\"))\n",
    "   \n",
    " #writefile(\"myfile\",num)\n",
    "print(f' this file has run {num }times')\n",
    "\n",
    "num = num +1\n",
    "\n",
    "writefile(\"myfile\",num)"
   ]
  },
  {
   "cell_type": "code",
   "execution_count": null,
   "id": "aa301ef0",
   "metadata": {},
   "outputs": [],
   "source": []
  }
 ],
 "metadata": {
  "kernelspec": {
   "display_name": "Python 3 (ipykernel)",
   "language": "python",
   "name": "python3"
  },
  "language_info": {
   "codemirror_mode": {
    "name": "ipython",
    "version": 3
   },
   "file_extension": ".py",
   "mimetype": "text/x-python",
   "name": "python",
   "nbconvert_exporter": "python",
   "pygments_lexer": "ipython3",
   "version": "3.9.6"
  }
 },
 "nbformat": 4,
 "nbformat_minor": 5
}
