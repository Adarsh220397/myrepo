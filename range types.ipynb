{
 "cells": [
  {
   "cell_type": "code",
   "execution_count": 1,
   "id": "139daa57",
   "metadata": {},
   "outputs": [
    {
     "name": "stdout",
     "output_type": "stream",
     "text": [
      "2\n",
      "3\n",
      "4\n",
      "2 3 4 "
     ]
    }
   ],
   "source": [
    "x = int(input())\n",
    "y = int(input())\n",
    "z = int(input())\n",
    "\n",
    "print(x,end=\" \")\n",
    "print(y,end=\" \")\n",
    "print(z,end=\" \")"
   ]
  },
  {
   "cell_type": "code",
   "execution_count": 3,
   "id": "76f834d2",
   "metadata": {},
   "outputs": [
    {
     "name": "stdout",
     "output_type": "stream",
     "text": [
      "1\n",
      "3\n",
      "5\n",
      "1/3/5\n"
     ]
    }
   ],
   "source": [
    "x = int(input())\n",
    "y = int(input())\n",
    "z = int(input())\n",
    "\n",
    "print(x, y, z, sep=\"/\")"
   ]
  },
  {
   "cell_type": "code",
   "execution_count": 6,
   "id": "2d1c7d42",
   "metadata": {},
   "outputs": [
    {
     "name": "stdout",
     "output_type": "stream",
     "text": [
      "hi \n",
      "i am\n",
      "Adarsh\n",
      "hi \n",
      "i am\n",
      "Adarsh\n"
     ]
    }
   ],
   "source": [
    "\n",
    "x = str(input())\n",
    "y = str(input())\n",
    "z = str(input())\n",
    "\n",
    "print(x)\n",
    "print(y)\n",
    "print(z)\n"
   ]
  },
  {
   "cell_type": "code",
   "execution_count": null,
   "id": "ecb3f832",
   "metadata": {},
   "outputs": [],
   "source": []
  },
  {
   "cell_type": "code",
   "execution_count": 39,
   "id": "5d1a0a39",
   "metadata": {},
   "outputs": [
    {
     "ename": "SyntaxError",
     "evalue": "invalid syntax (Temp/ipykernel_6432/297281643.py, line 3)",
     "output_type": "error",
     "traceback": [
      "\u001b[1;36m  File \u001b[1;32m\"C:\\Users\\6A90~1\\AppData\\Local\\Temp/ipykernel_6432/297281643.py\"\u001b[1;36m, line \u001b[1;32m3\u001b[0m\n\u001b[1;33m    print(i,/v)\u001b[0m\n\u001b[1;37m            ^\u001b[0m\n\u001b[1;31mSyntaxError\u001b[0m\u001b[1;31m:\u001b[0m invalid syntax\n"
     ]
    }
   ],
   "source": [
    "x =str(input())\n",
    "for i in x:\n",
    "    print(i,/v)"
   ]
  },
  {
   "cell_type": "code",
   "execution_count": 36,
   "id": "117e50b2",
   "metadata": {},
   "outputs": [
    {
     "name": "stdout",
     "output_type": "stream",
     "text": [
      "vfbhrh gf\n",
      "False\n"
     ]
    }
   ],
   "source": [
    "x =input()\n",
    "y=x.isspace( )\n",
    "print(y)"
   ]
  },
  {
   "cell_type": "code",
   "execution_count": 40,
   "id": "1ca3517d",
   "metadata": {},
   "outputs": [
    {
     "name": "stdout",
     "output_type": "stream",
     "text": [
      "AADSAaaa\n",
      "CDGaaa\n"
     ]
    }
   ],
   "source": [
    "x=[\"AADSA\",\"CDG\"]\n",
    "\n",
    "for i in x:\n",
    "    print(i +\"aaa\")"
   ]
  },
  {
   "cell_type": "code",
   "execution_count": 43,
   "id": "e1af7f67",
   "metadata": {},
   "outputs": [
    {
     "name": "stdout",
     "output_type": "stream",
     "text": [
      "a\n",
      "a\n"
     ]
    }
   ],
   "source": [
    "x = \"adarsh\"\n",
    "count = 0\n",
    "\n",
    "for i in x:\n",
    "    if(i == 'a'):\n",
    "        \n",
    "       print(i)"
   ]
  },
  {
   "cell_type": "code",
   "execution_count": 47,
   "id": "3523ea1f",
   "metadata": {},
   "outputs": [
    {
     "name": "stdout",
     "output_type": "stream",
     "text": [
      "1\n",
      "2\n"
     ]
    }
   ],
   "source": [
    "x = \"adarsh\"\n",
    "count = 0\n",
    "\n",
    "for i in x:\n",
    "    if(i == 'a'):\n",
    "        count+=1\n",
    "        print(count)"
   ]
  },
  {
   "cell_type": "code",
   "execution_count": 56,
   "id": "10202785",
   "metadata": {},
   "outputs": [
    {
     "name": "stdout",
     "output_type": "stream",
     "text": [
      "[5, 6, 7, 8, 9]\n",
      "9\n"
     ]
    }
   ],
   "source": [
    "x =list(range(5,10))\n",
    "print(x)\n",
    "print(x[4])"
   ]
  },
  {
   "cell_type": "code",
   "execution_count": 58,
   "id": "082d8d1d",
   "metadata": {},
   "outputs": [
    {
     "name": "stdout",
     "output_type": "stream",
     "text": [
      "[5, 7, 9, 11, 13, 15, 17, 19]\n"
     ]
    }
   ],
   "source": [
    "x=list(range(5,20,2))\n",
    "print(x)"
   ]
  },
  {
   "cell_type": "code",
   "execution_count": null,
   "id": "d72e05ee",
   "metadata": {},
   "outputs": [],
   "source": []
  },
  {
   "cell_type": "code",
   "execution_count": 62,
   "id": "aa6cdcf0",
   "metadata": {},
   "outputs": [],
   "source": [
    "while False:\n",
    "    print(\"Looping..\")"
   ]
  },
  {
   "cell_type": "code",
   "execution_count": null,
   "id": "80cf341e",
   "metadata": {},
   "outputs": [],
   "source": []
  }
 ],
 "metadata": {
  "kernelspec": {
   "display_name": "Python 3 (ipykernel)",
   "language": "python",
   "name": "python3"
  },
  "language_info": {
   "codemirror_mode": {
    "name": "ipython",
    "version": 3
   },
   "file_extension": ".py",
   "mimetype": "text/x-python",
   "name": "python",
   "nbconvert_exporter": "python",
   "pygments_lexer": "ipython3",
   "version": "3.9.6"
  }
 },
 "nbformat": 4,
 "nbformat_minor": 5
}
