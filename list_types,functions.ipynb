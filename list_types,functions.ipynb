{
 "cells": [
  {
   "cell_type": "code",
   "execution_count": 21,
   "id": "2815aafe",
   "metadata": {},
   "outputs": [
    {
     "name": "stdout",
     "output_type": "stream",
     "text": [
      ",\n",
      "d\n"
     ]
    }
   ],
   "source": [
    "my_list=[\"1,3,4,5,5,4\",['asd'],'fdfg']\n",
    "print(my_list[0][3])\n",
    "print(my_list[2][1])"
   ]
  },
  {
   "cell_type": "code",
   "execution_count": 20,
   "id": "758e8d8c",
   "metadata": {},
   "outputs": [
    {
     "name": "stdout",
     "output_type": "stream",
     "text": [
      "['1,3,4,5,5,4', ['asd'], 'fdfg']\n"
     ]
    }
   ],
   "source": [
    "my_list=[\"1,3,4,5,5,4\",['asd'],'fdfg']\n",
    "print(my_list)"
   ]
  },
  {
   "cell_type": "code",
   "execution_count": 18,
   "id": "20bcc0a1",
   "metadata": {},
   "outputs": [
    {
     "name": "stdout",
     "output_type": "stream",
     "text": [
      "[1, 2, 3, 'ada', [121]]\n",
      "[1, 2, 3, 'ada', [121]]\n",
      "[1, 2, 3, 'ada', [121]]\n",
      "[1, 2, 3, 'ada', [121]]\n",
      "[1, 2, 3, 'ada', [121]]\n"
     ]
    }
   ],
   "source": [
    "my_list=[1,2,3,\"ada\",[121]]\n",
    "for i in my_list:\n",
    "    print(my_list)"
   ]
  },
  {
   "cell_type": "code",
   "execution_count": 23,
   "id": "b6221cdb",
   "metadata": {},
   "outputs": [
    {
     "name": "stdout",
     "output_type": "stream",
     "text": [
      "[1, 2, 3, 'ada', [121]]\n",
      "[1, 2, 3, 'ada', [121]]\n"
     ]
    }
   ],
   "source": [
    "my_list=[1,2,3,\"ada\",[121]]\n",
    "for i in range (0,2):\n",
    "     print(my_list)"
   ]
  },
  {
   "cell_type": "code",
   "execution_count": 33,
   "id": "c263e209",
   "metadata": {},
   "outputs": [
    {
     "name": "stdout",
     "output_type": "stream",
     "text": [
      "[1, 2, 3, 'ada', [121]]   [1, 2, 3, 'ada', [121]]   "
     ]
    }
   ],
   "source": [
    "my_list=[1,2,3,\"ada\",[121]]\n",
    "for i in range (0,2):\n",
    "     print(my_list,end=\"   \")"
   ]
  },
  {
   "cell_type": "code",
   "execution_count": 38,
   "id": "e6be57a7",
   "metadata": {},
   "outputs": [
    {
     "name": "stdout",
     "output_type": "stream",
     "text": [
      "['g', 'r', 'a', 'm']\n"
     ]
    }
   ],
   "source": [
    "# List slicing in Python\n",
    "\n",
    "\n",
    "\n",
    "\n",
    "my_list = ['p','r','o','g','r','a','m','i','z']\n",
    "print(my_list[3:7])# [3,4,5,6] th"
   ]
  },
  {
   "cell_type": "code",
   "execution_count": 42,
   "id": "6363690e",
   "metadata": {},
   "outputs": [
    {
     "name": "stdout",
     "output_type": "stream",
     "text": [
      "['r', 'a', 'm', 'i', 'z']\n"
     ]
    }
   ],
   "source": [
    "my_list = ['p','r','o','g','r','a','m','i','z']\n",
    "print(my_list[-5:])"
   ]
  },
  {
   "cell_type": "code",
   "execution_count": 57,
   "id": "f0f9403a",
   "metadata": {},
   "outputs": [
    {
     "name": "stdout",
     "output_type": "stream",
     "text": [
      "['p', 'r', 'o', 'g', 'r', 'a', 'm', 'i', 'z', '\\n']\n"
     ]
    }
   ],
   "source": [
    "my_list = ['p','r','o','g','r','a','m','i','z','\\n']\n",
    "print(my_list)"
   ]
  },
  {
   "cell_type": "code",
   "execution_count": 69,
   "id": "da32b8fc",
   "metadata": {},
   "outputs": [
    {
     "name": "stdout",
     "output_type": "stream",
     "text": [
      "['p', 'r', 'o', 'g', 2, 2, 'f', 'a', 'm', 'i', 'z', '\\n']\n"
     ]
    }
   ],
   "source": [
    "my_list = ['p','r','o','g','r','a','m','i','z','\\n']\n",
    "my_list[4:2]=2,2 \n",
    "my_list[6] ='f'\n",
    "\n",
    "print(my_list)"
   ]
  },
  {
   "cell_type": "code",
   "execution_count": 73,
   "id": "220e5738",
   "metadata": {},
   "outputs": [
    {
     "name": "stdout",
     "output_type": "stream",
     "text": [
      "[1, 3, 5, 7]\n",
      "[3, 4, 45, 24, 7, 9, 11, 13]\n"
     ]
    }
   ],
   "source": [
    "# Appending and Extending lists in Python\n",
    "\n",
    "\n",
    "odd = [1, 3, 5]\n",
    "\n",
    "odd.append(7)\n",
    "\n",
    "print(odd)\n",
    "\n",
    "even=[3,4,45,24,7]\n",
    "even.extend([9, 11, 13])\n",
    "\n",
    "print(even)"
   ]
  },
  {
   "cell_type": "code",
   "execution_count": 90,
   "id": "26098ed8",
   "metadata": {},
   "outputs": [
    {
     "name": "stdout",
     "output_type": "stream",
     "text": [
      "['p', 'r', 'o', 'g', 'r', 'a', 'm', 'i', 'z', '\\n', 4, 5, 5, 3, 2]\n",
      "ggggg /n\n"
     ]
    }
   ],
   "source": [
    "\n",
    "my_list = ['p','r','o','g','r','a','m','i','z','\\n']\n",
    "\n",
    "print(my_list + [4,5,5,3,2])\n",
    "\n",
    "print(my_list[3]*5,'/n')\n",
    "\n"
   ]
  },
  {
   "cell_type": "code",
   "execution_count": 102,
   "id": "9c4750cb",
   "metadata": {},
   "outputs": [
    {
     "name": "stdout",
     "output_type": "stream",
     "text": [
      "['p', 3333, 'r', 'o', 'g', 44, 33, 'z', '\\n']\n"
     ]
    }
   ],
   "source": [
    "# Demonstration of list insert() method\n",
    "\n",
    "\n",
    "my_list = ['p','r','o','g','r','a','m','i','z','\\n']\n",
    "\n",
    "my_list.insert(1,3333)\n",
    "\n",
    "my_list[5:9]=[44,33]\n",
    "\n",
    "print(my_list)\n"
   ]
  },
  {
   "cell_type": "code",
   "execution_count": 113,
   "id": "84bd2f40",
   "metadata": {},
   "outputs": [
    {
     "name": "stdout",
     "output_type": "stream",
     "text": [
      "[1, 3, 'ada', [121]]\n",
      "3\n"
     ]
    }
   ],
   "source": [
    "#remove function and pop function\n",
    "\n",
    "my_list=[1,2,3,\"ada\",[121]]\n",
    "\n",
    "my_list.remove(2)\n",
    "print(my_list)\n",
    "\n",
    "\n",
    "\n",
    "print(my_list.pop(1))"
   ]
  },
  {
   "cell_type": "code",
   "execution_count": 114,
   "id": "3fc45411",
   "metadata": {},
   "outputs": [
    {
     "name": "stdout",
     "output_type": "stream",
     "text": [
      "[1, 2, [121]]\n"
     ]
    }
   ],
   "source": [
    "#del function\n",
    "\n",
    "\n",
    "my_list=[1,2,3,\"ada\",[121]]\n",
    "\n",
    "del my_list[2:4]\n",
    "print(my_list)\n"
   ]
  },
  {
   "cell_type": "code",
   "execution_count": null,
   "id": "1d5a9525",
   "metadata": {},
   "outputs": [],
   "source": [
    "Python List Methods\n",
    "append() - Add an element to the end of the list\n",
    "extend() - Add all elements of a list to the another list\n",
    "insert() - Insert an item at the defined index\n",
    "remove() - Removes an item from the list\n",
    "pop() - Removes and returns an element at the given index\n",
    "clear() - Removes all items from the list\n",
    "index() - Returns the index of the first matched item\n",
    "count() - Returns the count of the number of items passed as an argument\n",
    "sort() - Sort items in a list in ascending order\n",
    "reverse() - Reverse the order of items in the list\n",
    "copy() - Returns a shallow copy of the list"
   ]
  },
  {
   "cell_type": "code",
   "execution_count": 180,
   "id": "1f19f349",
   "metadata": {},
   "outputs": [
    {
     "name": "stdout",
     "output_type": "stream",
     "text": [
      "[1, 2, 3, 'ada', [121], 'qqw']\n",
      "[1, 2, 3, 'ada', [121], 'qqw', 43, 'dfsd']\n",
      "[1, 2, 3, 'ada', [121], 'qqw', 555555555, 43, 'dfsd']\n",
      "2\n",
      "1\n",
      "['dfsd', 43, 555555555, 'qqw', [121], 'ada', 3, 2, 1]\n",
      "['dfsd', 43, 555555555, 'qqw', [121], 'ada', 3, 2, 1, 'dfsd', 43, 555555555, 'qqw', [121], 'ada', 3, 2, 1]\n"
     ]
    }
   ],
   "source": [
    "#append function and extend and  index and insert  and reverse function\n",
    "\n",
    "\n",
    "my_list=[1,2,3,\"ada\",[121]]\n",
    "my_list.append('qqw')            #append\n",
    "print(my_list)\n",
    "\n",
    "my_list.extend([(43),'dfsd']) #extend\n",
    "print(my_list)\n",
    "\n",
    "my_list.insert(6,555555555) #insert\n",
    "print(my_list)\n",
    "\n",
    "\n",
    "print(my_list.index(3))# index\n",
    "\n",
    "print(my_list.count(3)) #count\n",
    "\n",
    "my_list.reverse()\n",
    "print(my_list)\n",
    "\n",
    "\n",
    "my_list.copy()\n",
    "print(my_list*2)"
   ]
  },
  {
   "cell_type": "code",
   "execution_count": 175,
   "id": "c925f28f",
   "metadata": {},
   "outputs": [
    {
     "name": "stdout",
     "output_type": "stream",
     "text": [
      "[1, 2, 'ada', [121]]\n",
      "[1, 2, 'ada']\n",
      "2\n"
     ]
    }
   ],
   "source": [
    "#remove and #del and #clear \n",
    "\n",
    "my_list=[1,2,3,\"ada\",[121]]\n",
    "\n",
    "my_list.remove(3)\n",
    "print(my_list)\n",
    "\n",
    "del my_list[3]\n",
    "print(my_list)\n",
    "\n",
    "print(my_list.pop(1))\n",
    "my_list.clear()"
   ]
  },
  {
   "cell_type": "code",
   "execution_count": 5,
   "id": "394c7e06",
   "metadata": {},
   "outputs": [
    {
     "name": "stdout",
     "output_type": "stream",
     "text": [
      "fbb\n",
      "fbb\n"
     ]
    }
   ],
   "source": [
    "num = input()\n",
    "print(num)"
   ]
  },
  {
   "cell_type": "code",
   "execution_count": 15,
   "id": "fa0cb414",
   "metadata": {},
   "outputs": [
    {
     "name": "stdout",
     "output_type": "stream",
     "text": [
      "'sd',2,32\n"
     ]
    },
    {
     "ename": "TypeError",
     "evalue": "'list' object is not callable",
     "output_type": "error",
     "traceback": [
      "\u001b[1;31m---------------------------------------------------------------------------\u001b[0m",
      "\u001b[1;31mTypeError\u001b[0m                                 Traceback (most recent call last)",
      "\u001b[1;32mC:\\Users\\6A90~1\\AppData\\Local\\Temp/ipykernel_29600/1650861647.py\u001b[0m in \u001b[0;36m<module>\u001b[1;34m\u001b[0m\n\u001b[0;32m      3\u001b[0m \u001b[0mlist\u001b[0m\u001b[1;33m.\u001b[0m\u001b[0mappend\u001b[0m\u001b[1;33m(\u001b[0m\u001b[1;34m'sc'\u001b[0m\u001b[1;33m)\u001b[0m\u001b[1;33m\u001b[0m\u001b[1;33m\u001b[0m\u001b[0m\n\u001b[0;32m      4\u001b[0m \u001b[0ma\u001b[0m \u001b[1;33m=\u001b[0m \u001b[0minput\u001b[0m\u001b[1;33m(\u001b[0m\u001b[1;33m)\u001b[0m\u001b[1;33m\u001b[0m\u001b[1;33m\u001b[0m\u001b[0m\n\u001b[1;32m----> 5\u001b[1;33m \u001b[0mprint\u001b[0m\u001b[1;33m(\u001b[0m\u001b[0mlist\u001b[0m\u001b[1;33m(\u001b[0m\u001b[0ma\u001b[0m\u001b[1;33m)\u001b[0m\u001b[1;33m)\u001b[0m\u001b[1;33m\u001b[0m\u001b[1;33m\u001b[0m\u001b[0m\n\u001b[0m\u001b[0;32m      6\u001b[0m \u001b[0mprint\u001b[0m\u001b[1;33m(\u001b[0m\u001b[0mlist\u001b[0m\u001b[1;33m)\u001b[0m\u001b[1;33m\u001b[0m\u001b[1;33m\u001b[0m\u001b[0m\n",
      "\u001b[1;31mTypeError\u001b[0m: 'list' object is not callable"
     ]
    }
   ],
   "source": [
    "list = []\n",
    "\n",
    "list.append('sc')\n",
    "a = input()\n",
    "print(list())\n",
    "print(list)"
   ]
  },
  {
   "cell_type": "code",
   "execution_count": 11,
   "id": "a1438ee6",
   "metadata": {},
   "outputs": [
    {
     "name": "stdout",
     "output_type": "stream",
     "text": [
      "[21, 40.5, 'String']\n"
     ]
    }
   ],
   "source": [
    "nums = []\n",
    "\n",
    "# appending data in list\n",
    "nums.append(21)\n",
    "nums.append(40.5)\n",
    "nums.append(\"String\")\n",
    "\n",
    "print(nums)\n"
   ]
  },
  {
   "cell_type": "code",
   "execution_count": 24,
   "id": "c46f2709",
   "metadata": {},
   "outputs": [
    {
     "name": "stdout",
     "output_type": "stream",
     "text": [
      "3\n"
     ]
    }
   ],
   "source": [
    "a =1\n",
    "b =2\n",
    "c= a+b\n",
    "print(c)\n"
   ]
  },
  {
   "cell_type": "code",
   "execution_count": 2,
   "id": "59e08e86",
   "metadata": {},
   "outputs": [],
   "source": [
    "def adc1(e,r,d):# arguments given\n",
    "    \n",
    "    return(e+r+d)\n",
    "    #should type return or print fr output,so"
   ]
  },
  {
   "cell_type": "code",
   "execution_count": 3,
   "id": "58955695",
   "metadata": {},
   "outputs": [
    {
     "data": {
      "text/plain": [
       "36"
      ]
     },
     "execution_count": 3,
     "metadata": {},
     "output_type": "execute_result"
    }
   ],
   "source": [
    "adc1(10,23,3)"
   ]
  },
  {
   "cell_type": "code",
   "execution_count": 5,
   "id": "1ef4cbbc",
   "metadata": {},
   "outputs": [
    {
     "name": "stdout",
     "output_type": "stream",
     "text": [
      "enter name cg\n",
      "cg\n"
     ]
    }
   ],
   "source": [
    "abc = str(input(\"enter name \"))\n",
    "print(abc)"
   ]
  },
  {
   "cell_type": "code",
   "execution_count": 13,
   "id": "00c65761",
   "metadata": {},
   "outputs": [],
   "source": [
    "def name():#arguments not given\n",
    "    a = str(input(\"name :\"))\n",
    "    if a:\n",
    "        print(\"hello\",str(a))\n",
    "    else:\n",
    "        print(\"hii no name entered\")"
   ]
  },
  {
   "cell_type": "code",
   "execution_count": null,
   "id": "50dad0d8",
   "metadata": {},
   "outputs": [],
   "source": []
  },
  {
   "cell_type": "code",
   "execution_count": 8,
   "id": "1b87b6d8",
   "metadata": {},
   "outputs": [
    {
     "name": "stdout",
     "output_type": "stream",
     "text": [
      "35\n"
     ]
    }
   ],
   "source": [
    "a = 5\n",
    "b = 7\n",
    "c = a*b\n",
    "print(c)\n",
    "\n"
   ]
  },
  {
   "cell_type": "code",
   "execution_count": 10,
   "id": "098e62bc",
   "metadata": {},
   "outputs": [],
   "source": [
    "def xyz(a,b):\n",
    "    ans = a*b\n",
    "    return(ans)\n"
   ]
  },
  {
   "cell_type": "code",
   "execution_count": 11,
   "id": "3e540d0d",
   "metadata": {},
   "outputs": [
    {
     "data": {
      "text/plain": [
       "408"
      ]
     },
     "execution_count": 11,
     "metadata": {},
     "output_type": "execute_result"
    }
   ],
   "source": [
    "xyz(12,34)"
   ]
  },
  {
   "cell_type": "code",
   "execution_count": 10,
   "id": "808d4bfc",
   "metadata": {},
   "outputs": [
    {
     "name": "stdout",
     "output_type": "stream",
     "text": [
      "3\n",
      "2\n",
      "5\n",
      "odd\n"
     ]
    }
   ],
   "source": [
    "\n",
    "a = int(input())\n",
    "b = int(input())\n",
    "c=a+b\n",
    "print(int(c))\n",
    "    \n",
    "\n",
    "    \n",
    "if c%2 == 0:\n",
    "        print(\"even\")\n",
    "else :\n",
    "        print(\"odd\")\n",
    "def odd_even(a,b):\n",
    "     odd_even()\n",
    "\n"
   ]
  },
  {
   "cell_type": "code",
   "execution_count": 13,
   "id": "cc27cda1",
   "metadata": {},
   "outputs": [
    {
     "ename": "TypeError",
     "evalue": "odd_even() missing 2 required positional arguments: 'a' and 'b'",
     "output_type": "error",
     "traceback": [
      "\u001b[1;31m---------------------------------------------------------------------------\u001b[0m",
      "\u001b[1;31mTypeError\u001b[0m                                 Traceback (most recent call last)",
      "\u001b[1;32mC:\\Users\\6A90~1\\AppData\\Local\\Temp/ipykernel_30380/3678947532.py\u001b[0m in \u001b[0;36m<module>\u001b[1;34m\u001b[0m\n\u001b[1;32m----> 1\u001b[1;33m \u001b[0modd_even\u001b[0m\u001b[1;33m(\u001b[0m\u001b[1;33m)\u001b[0m\u001b[1;33m\u001b[0m\u001b[1;33m\u001b[0m\u001b[0m\n\u001b[0m",
      "\u001b[1;31mTypeError\u001b[0m: odd_even() missing 2 required positional arguments: 'a' and 'b'"
     ]
    }
   ],
   "source": [
    "    odd_even()"
   ]
  },
  {
   "cell_type": "code",
   "execution_count": null,
   "id": "ab5c6d00",
   "metadata": {},
   "outputs": [],
   "source": []
  },
  {
   "cell_type": "code",
   "execution_count": null,
   "id": "641e8371",
   "metadata": {},
   "outputs": [],
   "source": [
    "\n"
   ]
  },
  {
   "cell_type": "code",
   "execution_count": 1,
   "id": "1bda118e",
   "metadata": {},
   "outputs": [],
   "source": [
    "def odd_eve():\n",
    "    a=int(input(\"enter the no: \"))\n",
    "    b = int(input(\"enter the no :\"))\n",
    "    print(a)\n",
    "    print(b)\n",
    "    \n",
    "    c=a+b\n",
    "    print(c)\n",
    "    \n",
    "    if c%2 == 0:\n",
    "        print(\"even\")\n",
    "    else :\n",
    "        print(\"odd\")"
   ]
  }
 ],
 "metadata": {
  "kernelspec": {
   "display_name": "Python 3 (ipykernel)",
   "language": "python",
   "name": "python3"
  },
  "language_info": {
   "codemirror_mode": {
    "name": "ipython",
    "version": 3
   },
   "file_extension": ".py",
   "mimetype": "text/x-python",
   "name": "python",
   "nbconvert_exporter": "python",
   "pygments_lexer": "ipython3",
   "version": "3.9.6"
  }
 },
 "nbformat": 4,
 "nbformat_minor": 5
}
